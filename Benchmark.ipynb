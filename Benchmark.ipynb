{
 "cells": [
  {
   "cell_type": "code",
   "execution_count": null,
   "metadata": {
    "collapsed": true
   },
   "outputs": [],
   "source": [
    "using DifferentialEquations\n",
    "using PyPlot"
   ]
  },
  {
   "cell_type": "code",
   "execution_count": null,
   "metadata": {},
   "outputs": [],
   "source": [
    "model = @ode_def_nohes HastingsPowell begin\n",
    "    dx = x * (1 - x) - a1 * x * y / (1 + b1 * x)\n",
    "    dy = a1 * x * y / (1 + b1 * x) - a2 * y * z / (1 + b2 * y) - d1 * y\n",
    "    dz = a2 * y * z / (1 + b2 * y) - d2 * z\n",
    "end a1 = 5.0 a2 = 0.1 b1 => 3.0 b2 = 2.0 d1 = 0.4 d2 = 0.01 "
   ]
  },
  {
   "cell_type": "code",
   "execution_count": null,
   "metadata": {},
   "outputs": [],
   "source": [
    "function speed_test(b1vals)\n",
    "    prob = ODEProblem(model, [0.8, 0.2, 10.0], (0.0, 10000.0))\n",
    "    \n",
    "    for b1 in b1vals\n",
    "        prob.f.b1 = b1\n",
    "        bsol = solve(prob, CVODE_BDF(), reltol = 1e-8, abstol = 1e-8)        \n",
    "    end\n",
    "end"
   ]
  },
  {
   "cell_type": "code",
   "execution_count": null,
   "metadata": {},
   "outputs": [],
   "source": [
    "@time bifts = speed_test(2.2:0.001:3.2);"
   ]
  },
  {
   "cell_type": "code",
   "execution_count": null,
   "metadata": {},
   "outputs": [],
   "source": [
    "# I am not sure how to get back an Array of the solutions, as this is painfully slow\n",
    "function speed_test2(b1vals)\n",
    "    u0 = [0.8, 0.2, 10.0]\n",
    "    tspan = (0.0, 10000.0)\n",
    "    model = HastingsPowell()\n",
    "    \n",
    "    bsols = Array{ODESolution}(length(b1vals))\n",
    "    for (i, b1) in enumerate(b1vals)\n",
    "        model.b1 = b1\n",
    "        prob = ODEProblem(model, u0, tspan)\n",
    "        bsol = solve(prob, CVODE_BDF(), reltol = 1e-8, abstol = 1e-8)        \n",
    "        bsols[i] = bsol\n",
    "    end\n",
    "    return bsols\n",
    "end"
   ]
  },
  {
   "cell_type": "code",
   "execution_count": null,
   "metadata": {},
   "outputs": [],
   "source": [
    "@time bifts = speed_test2(2.2:0.001:3.2);"
   ]
  },
  {
   "cell_type": "code",
   "execution_count": null,
   "metadata": {},
   "outputs": [],
   "source": [
    "plot(bifts[1000].t, bifts[1000][1, :])\n",
    "xlim(5000, 5500)"
   ]
  },
  {
   "cell_type": "markdown",
   "metadata": {},
   "source": [
    "Try to use a comprehension to make the code even more like the Mathematica Table version"
   ]
  },
  {
   "cell_type": "code",
   "execution_count": null,
   "metadata": {},
   "outputs": [],
   "source": [
    "function calc_sol(b1val)\n",
    "    u0 = [0.8, 0.2, 10.0]\n",
    "    tspan = (0.0, 10000.0)\n",
    "    model = HastingsPowell()\n",
    "    model.b1 = b1val\n",
    "    return solve(ODEProblem(model, u0, tspan), CVODE_BDF(), reltol = 1e-8, abstol = 1e-8)\n",
    "end"
   ]
  },
  {
   "cell_type": "code",
   "execution_count": null,
   "metadata": {},
   "outputs": [],
   "source": [
    "b1vals = 2.2:0.001:3.2\n",
    "@time bifts = [calc_sol(b1) for b1 in b1vals];"
   ]
  },
  {
   "cell_type": "code",
   "execution_count": null,
   "metadata": {},
   "outputs": [],
   "source": [
    "plot(bifts[1000].t, bifts[1000][1, :])\n",
    "xlim(5000, 5500)"
   ]
  },
  {
   "cell_type": "code",
   "execution_count": null,
   "metadata": {
    "collapsed": true
   },
   "outputs": [],
   "source": []
  }
 ],
 "metadata": {
  "kernelspec": {
   "display_name": "Julia 0.6.0",
   "language": "julia",
   "name": "julia-0.6"
  },
  "language_info": {
   "file_extension": ".jl",
   "mimetype": "application/julia",
   "name": "julia",
   "version": "0.6.0"
  }
 },
 "nbformat": 4,
 "nbformat_minor": 2
}
